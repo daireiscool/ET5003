{
 "cells": [
  {
   "cell_type": "markdown",
   "metadata": {
    "id": "930vlW5BrOtq"
   },
   "source": [
    "<div>\n",
    "<img src=\"https://drive.google.com/uc?export=view&id=1vK33e_EqaHgBHcbRV_m38hx6IkG0blK_\" width=\"350\"/>\n",
    "</div> \n",
    "\n",
    "# **Artificial Intelligence - MSc**\n",
    "## ET5003 - MACHINE LEARNING APPLICATIONS \n",
    "\n",
    "### Instructor: Enrique Naredo\n",
    "### ET5003_KaggleCompetition"
   ]
  },
  {
   "cell_type": "markdown",
   "metadata": {
    "cellView": "form",
    "id": "LqXD_IwUQuBF"
   },
   "source": [
    "#@title Current Date\n",
    "Today = '2021-10-15' #@param {type:\"date\"}\n"
   ]
  },
  {
   "cell_type": "markdown",
   "metadata": {
    "cellView": "form",
    "id": "uzDKau31OjVO"
   },
   "source": [
    "#@markdown ---\n",
    "#@markdown ### Enter your details here:\n",
    "Team_Number = \"1\" #@param {type:\"string\"}\n",
    "Student_ID&Name = \"20156952 Dáire Campbell\" #@param {type:\"string\"}\n",
    "Student_ID&Name = \"20151586 Carlos Amaral\" #@param {type:\"string\"}\n",
    "Student_ID&Name = \"9022724 Nigel Portley\" #@param {type:\"string\"}\n",
    "Student_ID&Name = \"20172257 Stephen Quirke\" #@param {type:\"string\"}\n",
    "Student_ID&Name = \"20214537 Tom Keane\" #@param {type:\"string\"}\n",
    "#@markdown ---"
   ]
  },
  {
   "cell_type": "code",
   "execution_count": 1,
   "metadata": {
    "cellView": "form",
    "id": "r39xGZckTpKx"
   },
   "outputs": [],
   "source": [
    "#@title Notebook information\n",
    "Notebook_type = 'Etivity' #@param [\"Example\", \"Lab\", \"Practice\", \"Etivity\", \"Assignment\", \"Exam\"]\n",
    "Version = \"Final\" #@param [\"Draft\", \"Final\"] {type:\"raw\"}\n",
    "Submission = False #@param {type:\"boolean\"}"
   ]
  },
  {
   "cell_type": "markdown",
   "metadata": {
    "id": "_A0Z6S-r6DpA"
   },
   "source": [
    "# INTRODUCTION"
   ]
  },
  {
   "cell_type": "markdown",
   "metadata": {
    "id": "d2vlkUAJ7Pz7"
   },
   "source": [
    "Your introduction here."
   ]
  },
  {
   "cell_type": "markdown",
   "metadata": {
    "id": "aajlS0WCJ8pm"
   },
   "source": [
    "***The goal is to use advanced Machine Learning methods to predict House price.***"
   ]
  },
  {
   "cell_type": "markdown",
   "metadata": {
    "id": "Wg7VCbX77eAA"
   },
   "source": [
    "## Imports"
   ]
  },
  {
   "cell_type": "code",
   "execution_count": 2,
   "metadata": {
    "id": "iFFLThrpwibd"
   },
   "outputs": [],
   "source": [
    "# Suppressing Warnings:\n",
    "import warnings\n",
    "warnings.filterwarnings(\"ignore\")"
   ]
  },
  {
   "cell_type": "code",
   "execution_count": 3,
   "metadata": {
    "id": "k96-GLUGE2ux"
   },
   "outputs": [],
   "source": [
    "# standard libraries\n",
    "import pandas as pd\n",
    "import numpy as np\n",
    "import matplotlib.pyplot as plt\n",
    "%matplotlib inline"
   ]
  },
  {
   "cell_type": "code",
   "execution_count": 4,
   "metadata": {
    "id": "sYPJU_Y6O6Dq"
   },
   "outputs": [],
   "source": [
    "# to plot\n",
    "import matplotlib.colors\n",
    "from mpl_toolkits.mplot3d import Axes3D\n",
    "\n",
    "# to generate classification, regression and clustering datasets\n",
    "import sklearn.datasets as dt\n",
    "\n",
    "# to create data frames\n",
    "from pandas import DataFrame\n",
    "\n",
    "# to generate data from an existing dataset\n",
    "from sklearn.neighbors import KernelDensity\n",
    "from sklearn.model_selection import GridSearchCV"
   ]
  },
  {
   "cell_type": "code",
   "execution_count": 5,
   "metadata": {
    "id": "mxMYIOx1FONV"
   },
   "outputs": [],
   "source": [
    "# Scikit-learn is an open source machine learning library \n",
    "# that supports supervised and unsupervised learning\n",
    "# https://scikit-learn.org/stable/\n",
    "from sklearn.model_selection import train_test_split\n",
    "from sklearn.feature_extraction.text import CountVectorizer\n",
    "from sklearn.naive_bayes import MultinomialNB\n",
    "from sklearn.metrics import accuracy_score, confusion_matrix"
   ]
  },
  {
   "cell_type": "code",
   "execution_count": 6,
   "metadata": {
    "id": "YLlFHWx4j7W6"
   },
   "outputs": [],
   "source": [
    "# Regular expression operations\n",
    "#https://docs.python.org/3/library/re.html\n",
    "import re \n",
    "\n",
    "# Natural Language Toolkit\n",
    "# https://www.nltk.org/install.html\n",
    "import nltk\n",
    "\n",
    "# Stemming maps different forms of the same word to a common “stem” \n",
    "# https://pypi.org/project/snowballstemmer/\n",
    "from nltk.stem import SnowballStemmer\n",
    "\n",
    "# https://www.nltk.org/book/ch02.html\n",
    "from nltk.corpus import stopwords\n",
    "\n",
    "# https://scikit-learn.org/stable/modules/generated/sklearn.preprocessing.StandardScaler.html\n",
    "from sklearn.preprocessing import StandardScaler\n",
    "\n",
    "# TF-IDF\n",
    "from sklearn.feature_extraction.text import TfidfVectorizer\n",
    "\n"
   ]
  },
  {
   "cell_type": "code",
   "execution_count": 7,
   "metadata": {},
   "outputs": [
    {
     "data": {
      "text/html": [
       "<style>.container { width:95% !important; }</style>"
      ],
      "text/plain": [
       "<IPython.core.display.HTML object>"
      ]
     },
     "metadata": {},
     "output_type": "display_data"
    }
   ],
   "source": [
    "# Modules for visuals\n",
    "# use seaborn plotting defaults\n",
    "import seaborn as sns; sns.set()\n",
    "plt.rcParams['figure.figsize'] = [12, 8] \n",
    "\n",
    "# XGBoost for feature selection\n",
    "from xgboost import XGBClassifier\n",
    "from xgboost import plot_importance\n",
    "\n",
    "# Improve the Jupyter Notebook display\n",
    "from IPython.core.display import display, HTML\n",
    "display(HTML(\"<style>.container { width:95% !important; }</style>\"))\n",
    "\n",
    "# Improve pandas dataframe results\n",
    "pd.set_option('display.max_columns', 200)\n",
    "pd.set_option('display.max_rows', 200)"
   ]
  },
  {
   "cell_type": "code",
   "execution_count": 8,
   "metadata": {},
   "outputs": [],
   "source": [
    "import spacy"
   ]
  },
  {
   "cell_type": "code",
   "execution_count": 9,
   "metadata": {
    "id": "SwGh2bagw4kg"
   },
   "outputs": [
    {
     "name": "stderr",
     "output_type": "stream",
     "text": [
      "WARNING (theano.tensor.blas): Using NumPy C-API based implementation for BLAS functions.\n"
     ]
    }
   ],
   "source": [
    "import GPy as GPy\n",
    "import numpy as np\n",
    "import pylab as pb\n",
    "import pymc3 as pm\n",
    "import arviz as az"
   ]
  },
  {
   "cell_type": "code",
   "execution_count": 10,
   "metadata": {
    "id": "6MUJdlxSPSMM"
   },
   "outputs": [],
   "source": [
    "# Define the seed so that results can be reproduced\n",
    "seed = 11\n",
    "rand_state = 11\n",
    "\n",
    "# Define the color maps for plots\n",
    "color_map = plt.cm.get_cmap('RdYlBu')\n",
    "color_map_discrete = matplotlib.colors.LinearSegmentedColormap.from_list(\"\", [\"red\",\"cyan\",\"magenta\",\"blue\"])"
   ]
  },
  {
   "cell_type": "markdown",
   "metadata": {
    "id": "WL91ShB19RPw"
   },
   "source": [
    "# DATASET"
   ]
  },
  {
   "cell_type": "markdown",
   "metadata": {
    "id": "ESg5DGKWJSOf"
   },
   "source": [
    "Extract from this [paper](https://ieeexplore.ieee.org/document/9300074):\n",
    "\n",
    "* House prices are a significant impression of the economy, and its value ranges are of great concerns for the clients and property dealers. \n",
    "\n",
    "* Housing price escalate every year that eventually reinforced the need of strategy or technique that could predict house prices in future. \n",
    "\n",
    "* There are certain factors that influence house prices including physical conditions, locations, number of bedrooms and others.\n"
   ]
  },
  {
   "cell_type": "markdown",
   "metadata": {
    "id": "a8Y2pf50FlYL"
   },
   "source": [
    "1. [Download the dataset](https://github.com/UL-CS6134/CS6134_SEM1_2021-2/tree/main/Week-5). \n",
    "\n",
    "2. Upload the dataset into your folder.\n",
    "\n"
   ]
  },
  {
   "cell_type": "markdown",
   "metadata": {
    "id": "FMkdCQEmKTof"
   },
   "source": [
    "The challenge is to predict the final price of each house."
   ]
  },
  {
   "cell_type": "markdown",
   "metadata": {},
   "source": [
    "## Get the dataset: train, test, and true price."
   ]
  },
  {
   "cell_type": "code",
   "execution_count": 11,
   "metadata": {},
   "outputs": [
    {
     "name": "stdout",
     "output_type": "stream",
     "text": [
      "Running locally.\n"
     ]
    }
   ],
   "source": [
    "# The code runs quicker locally, but\n",
    "# I have a Colab version for distribution.\n",
    "try:\n",
    "    from google.colab import drive\n",
    "    drive.mount('/content/drive')\n",
    "    # Path, copy the path from your Drive\n",
    "    Path = '/content/drive/MyDrive/Masters_in_AI/et5003/etivity2/'\n",
    "    print(\"Running in Colab.\")\n",
    "except Exception as e:\n",
    "    print(\"Running locally.\")\n",
    "    Path = \"./\""
   ]
  },
  {
   "cell_type": "code",
   "execution_count": 12,
   "metadata": {},
   "outputs": [],
   "source": [
    "# Load data\n",
    "house_train = pd.read_csv(Path+\"house_train.csv\")\n",
    "house_train = house_train[house_train[\"price\"].notna()]\n",
    "house_train = house_train.rename(columns = {\"price\": \"Expected\"})\n",
    "\n",
    "house_test = pd.read_csv(Path+\"house_test.csv\")\n",
    "true_price = pd.read_csv(Path+\"true_price.csv\")\n",
    "# Add house value to the dataset\n",
    "\n",
    "house_test = house_test.merge(\n",
    "    true_price,\n",
    "    left_on = \"ad_id\",\n",
    "    right_on = \"Id\",\n",
    "    how = \"inner\")"
   ]
  },
  {
   "cell_type": "code",
   "execution_count": 13,
   "metadata": {},
   "outputs": [
    {
     "data": {
      "text/plain": [
       "<AxesSubplot:xlabel='Expected', ylabel='Density'>"
      ]
     },
     "execution_count": 13,
     "metadata": {},
     "output_type": "execute_result"
    },
    {
     "data": {
      "image/png": "[encoded data removed]",
      "text/plain": [
       "<Figure size 864x576 with 1 Axes>"
      ]
     },
     "metadata": {},
     "output_type": "display_data"
    }
   ],
   "source": [
    "# Confirm the price distributions are the similiar\n",
    "# between the reaining and test datasets.\n",
    "sns.distplot(house_train[\"Expected\"])\n",
    "sns.distplot(house_test[\"Expected\"])"
   ]
  },
  {
   "cell_type": "code",
   "execution_count": 14,
   "metadata": {},
   "outputs": [],
   "source": [
    "# Combine Train and Test data sets\n",
    "X_ = pd.concat([house_train, house_test], ignore_index = True)\n",
    "\n",
    "X = X_.drop(\"Expected\", axis = 1)\n",
    "y = X_[\"Expected\"]"
   ]
  },
  {
   "cell_type": "markdown",
   "metadata": {
    "id": "2PMoPLlUJ1Ly"
   },
   "source": [
    "## Training & Test Data"
   ]
  },
  {
   "cell_type": "code",
   "execution_count": 15,
   "metadata": {
    "id": "loLTHklwKGnV"
   },
   "outputs": [],
   "source": [
    "# split data into training and test\n",
    "from sklearn.model_selection import train_test_split\n",
    "\n",
    "# training: 70% (0.7), test: 30% (0.3) \n",
    "# you could try any other combination \n",
    "# but consider 50% of training as the low boundary\n",
    "X_train,X_test,y_train,y_test = train_test_split(X, y, test_size=0.3)"
   ]
  },
  {
   "cell_type": "markdown",
   "metadata": {
    "id": "FXo0x2u7T7-1"
   },
   "source": [
    "## Clean the dataset: remove nan's and possible outliers."
   ]
  },
  {
   "cell_type": "code",
   "execution_count": 16,
   "metadata": {},
   "outputs": [],
   "source": [
    "# Map from area to Dublin postcode\n",
    "# This will reduce number of features in areas\n",
    "area_to_postcode = {\n",
    "    'Temple Bar':'Dublin 1', 'IFSC':'Dublin 1', \n",
    "    'Grand Canal Dock':'Dublin 2',\n",
    "    'Clontarf':'Dublin 3', 'East Wall':'Dublin 3', 'North Strand':'Dublin 3', 'Fairview':'Dublin 3', 'Marino':'Dublin 3', 'Ballyboughal':'Dublin 3', \n",
    "    'Ballsbridge':'Dublin 4', 'Donnybrook':'Dublin 4','Sandymount':'Dublin 4','Ringsend':'Dublin 4','Irishtown':'Dublin 4','Merrion':'Dublin 4',\n",
    "    'Artane':'Dublin 5','Raheny':'Dublin 5','Kilbarrack':'Dublin 5','Edenmore':'Dublin 5','Kilmore':'Dublin 5','Donnycarney':'Dublin 5',\n",
    "    'Rathmines':'Dublin 6','Rathgar':'Dublin 6','Ranelagh':'Dublin 6','Milltown':'Dublin 6','Dartry':'Dublin 6',\n",
    "    'Stoneybatter':'Dublin 7','Phibsborough':'Dublin 7','Navan Road (D7)':'Dublin 7','North Circular Road':'Dublin 7','Smithfield':'Dublin 7','Ashtown':'Dublin 7','Cabra':'Dublin 7',\n",
    "    'Kilmainham':'Dublin 8','Inchicore':'Dublin 8','Rialto':'Dublin 8','Portobello':'Dublin 8','South Circular Road':'Dublin 8','Islandbridge':'Dublin 8','The Coombe':'Dublin 8',\"Dolphin's Barn\":'Dublin 8','Christchurch':'Dublin 8',\n",
    "    'Drumcondra':'Dublin 9','Glasnevin':'Dublin 9','Santry':'Dublin 9','Whitehall':'Dublin 9','Beaumont':'Dublin 9','Ballymun':'Dublin 9','Poppintree':'Dublin 9',\n",
    "    'Ballyfermot':'Dublin 10','Cherry Orchard':'Dublin 10',\n",
    "    'Finglas':'Dublin 11',\"St Margaret's\":'Dublin 11',\n",
    "    'Walkinstown':'Dublin 12','Crumlin':'Dublin 12','Drimnagh':'Dublin 12','Bluebell':'Dublin 12','Park West':'Dublin 12','Perrystown':'Dublin 12',\n",
    "    'Malahide':'Dublin 13','Howth':'Dublin 13','Sutton':'Dublin 13','Baldoyle':'Dublin 13','Donaghmede':'Dublin 13','Bayside':'Dublin 13','Ard Na Greine':'Dublin 13','Clongriffin':'Dublin 13','Clarehall':'Dublin 13',\n",
    "    'Dundrum':'Dublin 14','Churchtown':'Dublin 14','Goatstown':'Dublin 14','Clonskeagh':'Dublin 14','Windy Arbour':'Dublin 14',\n",
    "    'Carpenterstown':'Dublin 15','Castleknock':'Dublin 15','Clonsilla':'Dublin 15','Blanchardstown':'Dublin 15','Clonee':'Dublin 15','Coolmine':'Dublin 15','Hartstown':'Dublin 15','Mulhuddart':'Dublin 15','The Ward':'Dublin 15','Ongar':'Dublin 15','Tyrrelstown':'Dublin 15',\n",
    "    'Rathfarnham':'Dublin 16','Ballinteer':'Dublin 16','Ballinascorney':'Dublin 16','Knocklyon':'Dublin 16',\n",
    "    'Darndale':'Dublin 17','Clonshaugh':'Dublin 17','Coolock':'Dublin 17','Killester':'Dublin 17',\n",
    "    'Deansgrange':'Dublin 18','Sandyford':'Dublin 18','Foxrock':'Dublin 18','Stepaside':'Dublin 18','Cabinteely':'Dublin 18','Carrickmines':'Dublin 18','Leopardstown':'Dublin 18','Kilternan':'Dublin 18','Shankill':'Dublin 18',\n",
    "    'Palmerstown':'Dublin 20','Chapelizod':'Dublin 20','Lucan':'Dublin 20',\n",
    "    'Clondalkin':'Dublin 22','Kingswood':'Dublin 22','Newcastle':'Dublin 22',\n",
    "    'Ballymount':'Dublin 24','Kiltipper':'Dublin 24','Tallaght':'Dublin 24','Balrothery':'Dublin 24','Rathcoole':'Dublin 24','Kilnamanagh':'Dublin 24','Firhouse':'Dublin 24','Greenhills':'Dublin 24','Oldbawn':'Dublin 24','Adamstown':'Dublin 24','Saggart':'Dublin 24','Citywest':'Dublin 24','Ballycullen':'Dublin 24','Brittas':'Dublin 24',\n",
    "    'Terenure':'Dublin 6w',\"Harold's Cross\":'Dublin 6w','Kimmage':'Dublin 6w','Templeogue':'Dublin 6w',\n",
    "    'Donabate':'Co. Fingal','Swords':'Co. Fingal','Portmarnock':'Co. Fingal','Kinsealy':'Co. Fingal','Balgriffin':'Co. Fingal','Garristown':'Co. Fingal','Naul':'Co. Fingal','Skerries':'Co. Fingal','Rush':'Co. Fingal','Lusk':'Co. Fingal','Balbriggan':'Co. Fingal','Loughshinny':'Co. Fingal','Ballybough':'Co. Fingal',\n",
    "    'Blackrock':'Co. Dun Laoghaire-Rathdown','Dun Laoghaire':'Co. Dun Laoghaire-Rathdown','Glenageary':'Co. Dun Laoghaire-Rathdown',\n",
    "    'Monkstown':'Co. Dun Laoghaire-Rathdown','Booterstown':'Co. Dun Laoghaire-Rathdown','Sandycove':'Co. Dun Laoghaire-Rathdown',\n",
    "    'Rathmichael':'Co. Dun Laoghaire-Rathdown','Mount Merrion':'Co. Dun Laoghaire-Rathdown','Ballybrack':'Co. Dun Laoghaire-Rathdown','Sallynoggin':'Co. Dun Laoghaire-Rathdown',\n",
    "    'Kilmacud':'Co. Dun Laoghaire-Rathdown','Dalkey':'Co. Dun Laoghaire-Rathdown','Killiney':'Co. Dun Laoghaire-Rathdown','Loughlinstown':'Co. Dun Laoghaire-Rathdown',\n",
    "    }"
   ]
  },
  {
   "cell_type": "code",
   "execution_count": 17,
   "metadata": {},
   "outputs": [],
   "source": [
    "# Map from Dublin postcode to a flag \n",
    "# if its southside or northside\n",
    "postcode_north_south = {\n",
    "    \"Co. Fingal\":False,\n",
    "    \"Co. Dun Laoghaire-Rathdown\":True,\n",
    "    \"Dublin 4\":True,\n",
    "    \"Dublin 18\":True,\n",
    "    \"Dublin 15\":False,\n",
    "    \"Dublin 6\":True,\n",
    "    \"Dublin 6w\":True,\n",
    "    \"Dublin 3\":False,\n",
    "    \"Dublin 16\":True,\n",
    "    \"Dublin 13\":False,\n",
    "    \"Dublin 9\":False,\n",
    "    \"Dublin 7\":False,\n",
    "    \"Dublin 24\":True,\n",
    "    \"Dublin 20\":True,\n",
    "    \"Dublin 5\":False,\n",
    "    \"Dublin 12\":True,\n",
    "    \"Dublin 8\":True,\n",
    "    \"Dublin 14\":True,\n",
    "    \"Dublin 22\":True,\n",
    "    \"Dublin 17\":False,\n",
    "    \"Dublin 11\":False,\n",
    "    \"Dublin 2\":True,\n",
    "    \"Dublin 10\":True,\n",
    "    \"Dublin 1\":False\n",
    "}"
   ]
  },
  {
   "cell_type": "code",
   "execution_count": 18,
   "metadata": {},
   "outputs": [],
   "source": [
    "def pre_processing_features(df_, train_data):\n",
    "    \"\"\"\n",
    "    Function to preprocess features.\n",
    "    This includes One-Hot Encoding and \n",
    "    encoding columns.\n",
    "\n",
    "    Creating a function as will be applied to both \n",
    "    Training and Testing data.\n",
    "\n",
    "    ::param df: (pandas dataframe)\n",
    "    ::param data: (pandas dataframe)\n",
    "        Data to use to fill empty values and to encode\n",
    "        Using Training data to not bias results\n",
    "    ::param ber_dict: (dict)\n",
    "    ::return: (pandas dataframe)\n",
    "    \"\"\"\n",
    "    df = df_.copy(deep = True)\n",
    "    # Creating a mapping from ber letter to number\n",
    "    # ber classification is ordinal\n",
    "    ber_numbers = sorted(train_data.ber_classification.fillna(\n",
    "        train_data.ber_classification.mode()[0]).unique())\n",
    "    ber_dict = dict(zip(ber_numbers, range(len(ber_numbers))))\n",
    "    \n",
    "    # Encoding\n",
    "    # Fill NaN values with mode\n",
    "    df[\"ber_classification\"] = df[\"ber_classification\"]\\\n",
    "        .map(ber_dict)\\\n",
    "        .fillna(ber_dict[df.ber_classification.mode()[0]])\n",
    "    \n",
    "    return df\n",
    "\n",
    "\n",
    "def create_new_features(dataframe_, train_data):\n",
    "    \"\"\"\n",
    "    Functions to parse out new feaures from the dataframe.\n",
    "    These are:\n",
    "        - Alarm\n",
    "        - Gas Fired Central Heating\n",
    "        - Oil Fired Central Heating\n",
    "        - Parking\n",
    "        - Wheelchair Access\n",
    "        - Wired for Cable Television\n",
    "\n",
    "    ::param dataframe: (pandas DataFrame)\n",
    "    ::return: (pandas DataFrame)\n",
    "    \"\"\"\n",
    "    dataframe = dataframe_.copy(deep = True)\n",
    "    print(\n",
    "        \"Percentage Facility populated: \",\n",
    "        sum(dataframe[\"facility\"].notna())*100/len(dataframe), \"%\")\n",
    "    \n",
    "    for fac in [\n",
    "        \"Alarm\",\n",
    "        \"Gas Fired Central Heating\",\n",
    "        \"Oil Fired Central Heating\",\n",
    "        \"Parking\",\n",
    "        \"Wheelchair Access\",\n",
    "        \"Wired for Cable Television\"]:\n",
    "        dataframe[fac.lower().replace(\" \", \"_\")] = dataframe[\"facility\"].str.contains(fac).fillna(False)\n",
    "    \n",
    "    dataframe[\"postcode\"] = dataframe[\"area\"].map(area_to_postcode)\n",
    "    \n",
    "    postcode = pd.get_dummies(dataframe[\"postcode\"])\n",
    "    dataframe[postcode.columns] = postcode\n",
    "    \n",
    "    dataframe[\"postcode_north_south\"] = dataframe[\"postcode\"].map(postcode_north_south)\n",
    "\n",
    "    property_type = pd.get_dummies(dataframe[\"property_type\"])\n",
    "    dataframe[property_type.columns] = property_type  \n",
    "    \n",
    "    dataframe = pre_processing_features(dataframe, train_data)\n",
    "    \n",
    "    return dataframe"
   ]
  },
  {
   "cell_type": "code",
   "execution_count": 19,
   "metadata": {},
   "outputs": [
    {
     "name": "stdout",
     "output_type": "stream",
     "text": [
      "Percentage Facility populated:  34.66722830665543 %\n",
      "Percentage Facility populated:  31.041257367387033 %\n"
     ]
    }
   ],
   "source": [
    "# Apply preprocessing\n",
    "# Using X_train for the One Hot Encoding as we dont wasnt to contaminate the Test data\n",
    "X_train_ = create_new_features(X_train, X_train.copy(deep = True))\n",
    "X_test_ = create_new_features(X_test, X_train.copy(deep = True))"
   ]
  },
  {
   "cell_type": "code",
   "execution_count": 20,
   "metadata": {},
   "outputs": [],
   "source": [
    "# Add columns to test data from training data\n",
    "# These could be missing from One Hot Encoding etc\n",
    "\n",
    "for column in list(\n",
    "    set(X_train_.columns) - set(X_test_.columns)):\n",
    "    print(column)\n",
    "    X_test_[column] = 0"
   ]
  },
  {
   "cell_type": "code",
   "execution_count": 21,
   "metadata": {},
   "outputs": [
    {
     "name": "stdout",
     "output_type": "stream",
     "text": [
      "Origional length of training data: 2374\n",
      "Origional length of test data: 1018\n",
      "Length of X_train_ is now 2019, after removing surface outliers.\n",
      "Length of X_test_ is now 852, after removing surface outliers.\n",
      "Length of X_train_ is now 1997, after removing beds outliers.\n",
      "Length of X_test_ is now 848, after removing beds outliers.\n",
      "Length of X_train_ is now 1989, after removing bathroom outliers.\n",
      "Length of X_test_ is now 840, after removing bathroom outliers.\n",
      "Length of X_train_ is now 1988, after removing longitude outliers.\n",
      "Length of X_test_ is now 840, after removing longitude outliers.\n",
      "Length of X_train_ is now 1988, after removing latitude outliers.\n",
      "Length of X_test_ is now 840, after removing latitude outliers.\n"
     ]
    }
   ],
   "source": [
    "print(f\"Origional length of training data: {len(X_train_)}\")\n",
    "print(f\"Origional length of test data: {len(X_test_)}\")\n",
    "\n",
    "X_train_ = X_train_[X_train_[\"surface\"] < 1000]\n",
    "print(f\"Length of X_train_ is now {len(X_train_)}, after removing surface outliers.\")\n",
    "X_test_ = X_test_[X_test_[\"surface\"] < 1000]\n",
    "print(f\"Length of X_test_ is now {len(X_test_)}, after removing surface outliers.\")\n",
    "\n",
    "X_train_ = X_train_[X_train_[\"beds\"] > 0]\n",
    "print(f\"Length of X_train_ is now {len(X_train_)}, after removing beds outliers.\")\n",
    "X_test_ = X_test_[X_test_[\"beds\"] > 0]\n",
    "print(f\"Length of X_test_ is now {len(X_test_)}, after removing beds outliers.\")\n",
    "\n",
    "X_train_ = X_train_[X_train_[\"bathrooms\"] >0]\n",
    "print(f\"Length of X_train_ is now {len(X_train_)}, after removing bathroom outliers.\")\n",
    "X_test_ = X_test_[X_test_[\"bathrooms\"] >0]\n",
    "print(f\"Length of X_test_ is now {len(X_test_)}, after removing bathroom outliers.\")\n",
    "\n",
    "X_train_ = X_train_[X_train_[\"longitude\"] < -6]\n",
    "print(f\"Length of X_train_ is now {len(X_train_)}, after removing longitude outliers.\")\n",
    "X_test_ = X_test_[X_test_[\"longitude\"] < -6]\n",
    "print(f\"Length of X_test_ is now {len(X_test_)}, after removing longitude outliers.\")\n",
    "\n",
    "X_train_ = X_train_[X_train_[\"latitude\"] > 53]\n",
    "print(f\"Length of X_train_ is now {len(X_train_)}, after removing latitude outliers.\")\n",
    "X_test_ = X_test_[X_test_[\"latitude\"] > 53]\n",
    "print(f\"Length of X_test_ is now {len(X_test_)}, after removing latitude outliers.\")\n"
   ]
  },
  {
   "cell_type": "code",
   "execution_count": 22,
   "metadata": {},
   "outputs": [],
   "source": [
    "y_train = y_train[X_train_.index]\n",
    "y_test = y_test[X_test_.index]"
   ]
  },
  {
   "cell_type": "markdown",
   "metadata": {
    "id": "G5oRiZxo2gpN"
   },
   "source": [
    "# NATURAL LANGUAGE PROCESSING"
   ]
  },
  {
   "cell_type": "markdown",
   "metadata": {
    "id": "e8s0Wi3a8yjN"
   },
   "source": [
    "Natural language processing ([NLP](https://en.wikipedia.org/wiki/Natural_language_processing)) is a subfield of linguistics, computer science, and artificial intelligence.\n",
    "\n",
    "* NLP concerned with the interactions between computers and human language.\n",
    "* In particular how to program computers to process and analyze large amounts of natural language data. \n",
    "* The goal is a computer capable of \"understanding\" the contents of documents.\n",
    "* Including the contextual nuances of the language within them. \n",
    "* The technology can then accurately extract information and insights contained in the documents.\n",
    "* As well as categorize and organize the documents themselves. "
   ]
  },
  {
   "cell_type": "markdown",
   "metadata": {
    "id": "oValFP-z2gpN"
   },
   "source": [
    "Your comments, explanation, and references here."
   ]
  },
  {
   "cell_type": "code",
   "execution_count": 23,
   "metadata": {
    "id": "e_WND6NP2gpN"
   },
   "outputs": [],
   "source": [
    "desc_column = \"description_block\"\n",
    "feat_column = \"features\""
   ]
  },
  {
   "cell_type": "code",
   "execution_count": 24,
   "metadata": {},
   "outputs": [
    {
     "name": "stderr",
     "output_type": "stream",
     "text": [
      "[nltk_data] Downloading package stopwords to /home/daire/nltk_data...\n",
      "[nltk_data]   Package stopwords is already up-to-date!\n"
     ]
    }
   ],
   "source": [
    "nltk.download('stopwords')\n",
    "\n",
    "swords = stopwords.words('english')"
   ]
  },
  {
   "cell_type": "code",
   "execution_count": 25,
   "metadata": {},
   "outputs": [],
   "source": [
    "X_train_ = X_train_.reset_index()\n",
    "X_test_ = X_test_.reset_index()"
   ]
  },
  {
   "cell_type": "code",
   "execution_count": 26,
   "metadata": {},
   "outputs": [],
   "source": [
    "for column in [desc_column, feat_column]:\n",
    "    # tokenization\n",
    "    tokenized_doc = X_train_[column].fillna(\"\").apply(lambda x: x.split())\n",
    "    \n",
    "    # remove stop-words\n",
    "    tokenized_doc = tokenized_doc.apply(lambda x: [item for item in x if item not in swords])\n",
    "\n",
    "    # de-tokenization\n",
    "    detokenized_doc = []\n",
    "    for i in range(len(X_train_)):\n",
    "        t = ' '.join(tokenized_doc[i])\n",
    "        detokenized_doc.append(t)\n",
    "    X_train_[column+\"_clean\"] = detokenized_doc\n",
    "\n",
    "    # tokenization\n",
    "    tokenized_doc = X_test_[column].fillna(\"\").apply(lambda x: x.split())\n",
    "    \n",
    "    # remove stop-words\n",
    "    tokenized_doc = tokenized_doc.apply(lambda x: [item for item in x if item not in swords])\n",
    "\n",
    "    # de-tokenization\n",
    "    detokenized_doc = []\n",
    "    for i in range(len(X_test_)):\n",
    "        t = ' '.join(tokenized_doc[i])\n",
    "        detokenized_doc.append(t)\n",
    "    X_test_[column+\"_clean\"] = detokenized_doc"
   ]
  },
  {
   "cell_type": "code",
   "execution_count": 27,
   "metadata": {},
   "outputs": [
    {
     "data": {
      "text/plain": [
       "((1988, 300), (840, 300))"
      ]
     },
     "execution_count": 27,
     "metadata": {},
     "output_type": "execute_result"
    }
   ],
   "source": [
    "vectoriser_desc = TfidfVectorizer(stop_words='english', max_features= 300, max_df=0.5, smooth_idf=True)\n",
    "\n",
    "vectoriser_desc = vectoriser_desc.fit(X_train_[desc_column+\"_clean\"])\n",
    "tfidf_train_desc = vectoriser_desc.transform(X_train_[desc_column+\"_clean\"])\n",
    "tfidf_test_desc = vectoriser_desc.transform(X_test_[desc_column+\"_clean\"])\n",
    "\n",
    "tfidf_train_desc.shape, tfidf_test_desc.shape"
   ]
  },
  {
   "cell_type": "code",
   "execution_count": 28,
   "metadata": {},
   "outputs": [
    {
     "data": {
      "text/plain": [
       "((1988, 300), (840, 300))"
      ]
     },
     "execution_count": 28,
     "metadata": {},
     "output_type": "execute_result"
    }
   ],
   "source": [
    "vectoriser_desc = TfidfVectorizer(stop_words='english', max_features= 300, max_df=0.5, smooth_idf=True)\n",
    "\n",
    "vectoriser_desc = vectoriser_desc.fit(X_train_[feat_column+\"_clean\"])\n",
    "tfidf_train_feat = vectoriser_desc.transform(X_train_[feat_column+\"_clean\"])\n",
    "tfidf_test_feat = vectoriser_desc.transform(X_test_[feat_column+\"_clean\"])\n",
    "\n",
    "tfidf_train_feat.shape, tfidf_test_feat.shape"
   ]
  },
  {
   "cell_type": "markdown",
   "metadata": {},
   "source": [
    "### Combine TF-IDF data to training and test data"
   ]
  },
  {
   "cell_type": "code",
   "execution_count": 29,
   "metadata": {},
   "outputs": [],
   "source": [
    "# Features to train model on\n",
    "feature_cols = [\n",
    "    'bathrooms',\n",
    "    'beds',\n",
    "    'ber_classification',\n",
    "    'latitude',\n",
    "    'longitude',\n",
    "    'alarm',\n",
    "    'gas_fired_central_heating',\n",
    "    'oil_fired_central_heating',\n",
    "    'parking',\n",
    "    'wheelchair_access',\n",
    "    'wired_for_cable_television',\n",
    "    'Co. Dun Laoghaire-Rathdown',\n",
    "    'Co. Fingal',\n",
    "    'Dublin 1',\n",
    "    'Dublin 10',\n",
    "    'Dublin 11',\n",
    "    'Dublin 12',\n",
    "    'Dublin 13',\n",
    "    'Dublin 14',\n",
    "    'Dublin 15',\n",
    "    'Dublin 16',\n",
    "    'Dublin 17',\n",
    "    'Dublin 18',\n",
    "    'Dublin 2',\n",
    "    'Dublin 20',\n",
    "    'Dublin 22',\n",
    "    'Dublin 24',\n",
    "    'Dublin 3',\n",
    "    'Dublin 4',\n",
    "    'Dublin 5',\n",
    "    'Dublin 6',\n",
    "    'Dublin 6w',\n",
    "    'Dublin 7',\n",
    "    'Dublin 8',\n",
    "    'Dublin 9',\n",
    "    #'postcode_north_south',\n",
    "    'apartment',\n",
    "    'bungalow',\n",
    "    'detached',\n",
    "    'duplex',\n",
    "    'end-of-terrace',\n",
    "    'semi-detached',\n",
    "    'site',\n",
    "    'studio',\n",
    "    'terraced',\n",
    "    'townhouse']"
   ]
  },
  {
   "cell_type": "code",
   "execution_count": null,
   "metadata": {},
   "outputs": [],
   "source": []
  },
  {
   "cell_type": "code",
   "execution_count": 30,
   "metadata": {},
   "outputs": [],
   "source": [
    "train_data = np.c_[X_train_[feature_cols].values, tfidf_train_desc.toarray(), tfidf_train_feat.toarray()]\n",
    "test_data = np.c_[X_test_[feature_cols].values, tfidf_test_desc.toarray(), tfidf_test_feat.toarray()]"
   ]
  },
  {
   "cell_type": "code",
   "execution_count": 31,
   "metadata": {},
   "outputs": [
    {
     "data": {
      "text/plain": [
       "((1988, 645), (840, 645))"
      ]
     },
     "execution_count": 31,
     "metadata": {},
     "output_type": "execute_result"
    }
   ],
   "source": [
    "train_data.shape, test_data.shape"
   ]
  },
  {
   "cell_type": "markdown",
   "metadata": {
    "id": "bJFJQxAS9HZK"
   },
   "source": [
    "# PIECEWISE REGRESSION"
   ]
  },
  {
   "cell_type": "markdown",
   "metadata": {
    "id": "QkRchZtf6IV-"
   },
   "source": [
    "**Piecewise regression**, extract from [Wikipedia](https://en.wikipedia.org/wiki/Segmented_regression):\n",
    "\n",
    "Segmented regression, also known as piecewise regression or broken-stick regression, is a method in regression analysis in which the independent variable is partitioned into intervals and a separate line segment is fit to each interval. \n",
    "\n",
    "* Segmented regression analysis can also be performed on \n",
    "multivariate data by partitioning the various independent variables. \n",
    "* Segmented regression is useful when the independent variables, clustered into different groups, exhibit different relationships between the variables in these regions. \n",
    "\n",
    "* The boundaries between the segments are breakpoints.\n",
    "\n",
    "* Segmented linear regression is segmented regression whereby the relations in the intervals are obtained by linear regression. "
   ]
  },
  {
   "cell_type": "markdown",
   "metadata": {
    "id": "po84zvge2NS7"
   },
   "source": [
    "Your comments, explanation, and references here."
   ]
  },
  {
   "cell_type": "code",
   "execution_count": null,
   "metadata": {},
   "outputs": [],
   "source": [
    "# StandardScaler() will normalize the features i.e. each column of X, \n",
    "# so, each column/feature/variable will have μ = 0 and σ = 1\n",
    "sc = StandardScaler()\n",
    "\n",
    "n = 20#test_data.shape[1]\n",
    "\n",
    "xscaler = sc.fit(train_data[:, :n])\n",
    "Xn_train = xscaler.transform(train_data[:, :n])\n",
    "Xn_test = xscaler.transform(test_data[:, :n])\n",
    "\n",
    "#ylog = np.log(ys_train.astype('float'))\n",
    "ylog = np.log(y_train.astype('float').values.reshape(-1,1))\n",
    "yscaler = StandardScaler().fit(ylog)\n",
    "yn_train = yscaler.transform(ylog)\n",
    "ylog = np.log(y_test.astype('float').values.reshape(-1,1))\n",
    "yn_test = yscaler.transform(ylog)\n",
    "\n",
    "ys_train = yn_train.astype(float)\n",
    "ys_test = yn_test.astype(float)"
   ]
  },
  {
   "cell_type": "markdown",
   "metadata": {},
   "source": [
    "### Base model"
   ]
  },
  {
   "cell_type": "code",
   "execution_count": 33,
   "metadata": {},
   "outputs": [],
   "source": [
    "# model\n",
    "with pm.Model() as model:\n",
    "    #prior over the parameters of linear regression\n",
    "    alpha = pm.Normal('alpha', mu=0, sigma=30)\n",
    "    #we have one beta for each column of Xn\n",
    "    beta = pm.Normal('beta', mu=0, sigma=30, shape=Xn_train.shape[1])\n",
    "    #prior over the variance of the noise\n",
    "    sigma = pm.HalfCauchy('sigma_n', 5)\n",
    "    #linear regression model in matrix form\n",
    "    mu = alpha + pm.math.dot(beta, Xn_train.T)\n",
    "    #likelihood, be sure that observed is a 1d vector\n",
    "    #like = pm.Normal('like', mu=mu, sigma=sigma, observed=yn_train[:,0])\n",
    "    like = pm.Normal('like', mu=mu, sigma=sigma, observed=yn_train[:,0])\n",
    "    "
   ]
  },
  {
   "cell_type": "code",
   "execution_count": 34,
   "metadata": {},
   "outputs": [
    {
     "data": {
      "text/html": [
       "\n",
       "    <div>\n",
       "        <style>\n",
       "            /* Turns off some styling */\n",
       "            progress {\n",
       "                /* gets rid of default border in Firefox and Opera. */\n",
       "                border: none;\n",
       "                /* Needs to be in here for Safari polyfill so background images work as expected. */\n",
       "                background-size: auto;\n",
       "            }\n",
       "            .progress-bar-interrupted, .progress-bar-interrupted::-webkit-progress-bar {\n",
       "                background: #F44336;\n",
       "            }\n",
       "        </style>\n",
       "      <progress value='35000' class='' max='35000' style='width:300px; height:20px; vertical-align: middle;'></progress>\n",
       "      100.00% [35000/35000 03:07<00:00 Average Loss = 6,745]\n",
       "    </div>\n",
       "    "
      ],
      "text/plain": [
       "<IPython.core.display.HTML object>"
      ]
     },
     "metadata": {},
     "output_type": "display_data"
    },
    {
     "name": "stderr",
     "output_type": "stream",
     "text": [
      "Finished [100%]: Average Loss = 6,744.2\n"
     ]
    },
    {
     "data": {
      "image/png": "[encoded data removed]",
      "text/plain": [
       "<Figure size 864x576 with 1 Axes>"
      ]
     },
     "metadata": {},
     "output_type": "display_data"
    }
   ],
   "source": [
    "#number of iterations of the algorithms\n",
    "iter = 35000 \n",
    "\n",
    "# run the model\n",
    "with model:\n",
    "    approximation = pm.fit(iter,method='advi')\n",
    "    \n",
    "# check the convergence\n",
    "plt.plot(approximation.hist);"
   ]
  },
  {
   "cell_type": "code",
   "execution_count": 35,
   "metadata": {},
   "outputs": [],
   "source": [
    "# samples from the posterior\n",
    "posterior = approximation.sample(5000)"
   ]
  },
  {
   "cell_type": "code",
   "execution_count": 36,
   "metadata": {},
   "outputs": [
    {
     "name": "stdout",
     "output_type": "stream",
     "text": [
      "MAE =  142518.53636308422\n",
      "MAPE =  0.23310916238309967\n"
     ]
    }
   ],
   "source": [
    "# prediction\n",
    "ll=np.mean(posterior['alpha']) + np.dot(np.mean(posterior['beta'],axis=0), Xn_test.T)\n",
    "y_pred_BLR = np.exp(yscaler.inverse_transform(ll.reshape(-1,1)))[:,0]\n",
    "print(\"MAE = \",(np.mean(abs(y_pred_BLR - y_test))))\n",
    "print(\"MAPE = \",(np.mean(abs(y_pred_BLR - y_test) / y_test)))"
   ]
  },
  {
   "cell_type": "markdown",
   "metadata": {},
   "source": [
    "### Peicewise Model"
   ]
  },
  {
   "cell_type": "code",
   "execution_count": 37,
   "metadata": {
    "id": "pXX7Mq2Y2NrK"
   },
   "outputs": [],
   "source": [
    "# Our data is very high dimensional, compared to its size, so Piecewise Regressio would work better on lower dimesnions"
   ]
  },
  {
   "cell_type": "code",
   "execution_count": 38,
   "metadata": {},
   "outputs": [],
   "source": [
    "# Number of components\n",
    "component = 4"
   ]
  },
  {
   "cell_type": "markdown",
   "metadata": {},
   "source": [
    "### Cluster data"
   ]
  },
  {
   "cell_type": "code",
   "execution_count": 39,
   "metadata": {},
   "outputs": [
    {
     "data": {
      "text/plain": [
       "<matplotlib.collections.PathCollection at 0x7f7d0a91f2e0>"
      ]
     },
     "execution_count": 39,
     "metadata": {},
     "output_type": "execute_result"
    },
    {
     "data": {
      "image/png": "[encoded data removed]",
      "text/plain": [
       "<Figure size 864x576 with 1 Axes>"
      ]
     },
     "metadata": {},
     "output_type": "display_data"
    }
   ],
   "source": [
    "# training gaussian mixture model \n",
    "from sklearn.mixture import GaussianMixture\n",
    "\n",
    "# Longitude and latitude\n",
    "ind=[3, 4]\n",
    "\n",
    "\n",
    "gmm = GaussianMixture(n_components=component)\n",
    "# clustering by features 1, 2\n",
    "X_ind = np.vstack([Xn_train[:,ind],Xn_test[:,ind]])\n",
    "# Gaussian Mixture\n",
    "gmm.fit(X_ind)\n",
    "# plot blue dots\n",
    "plt.scatter(X_ind[:,0],X_ind[:,1])\n",
    "# centroids:  orange dots\n",
    "plt.scatter(gmm.means_[:,0],gmm.means_[:,1])"
   ]
  },
  {
   "cell_type": "code",
   "execution_count": 40,
   "metadata": {},
   "outputs": [
    {
     "data": {
      "text/plain": [
       "{0: 335, 1: 1010, 2: 332, 3: 311}"
      ]
     },
     "execution_count": 40,
     "metadata": {},
     "output_type": "execute_result"
    }
   ],
   "source": [
    "# train clusters\n",
    "clusters_train = gmm.predict(Xn_train[:,ind])\n",
    "unique_train, counts_train = np.unique(clusters_train, return_counts=True)\n",
    "dict(zip(unique_train, counts_train))\n"
   ]
  },
  {
   "cell_type": "code",
   "execution_count": 41,
   "metadata": {},
   "outputs": [
    {
     "data": {
      "text/plain": [
       "{0: 145, 1: 446, 2: 115, 3: 134}"
      ]
     },
     "execution_count": 41,
     "metadata": {},
     "output_type": "execute_result"
    }
   ],
   "source": [
    "# test clusters\n",
    "clusters_test = gmm.predict(Xn_test[:,ind])\n",
    "unique_test, counts_test = np.unique(clusters_test, return_counts=True)\n",
    "dict(zip(unique_test, counts_test))"
   ]
  },
  {
   "cell_type": "markdown",
   "metadata": {},
   "source": [
    "### Piecewise Model"
   ]
  },
  {
   "cell_type": "code",
   "execution_count": 42,
   "metadata": {},
   "outputs": [],
   "source": [
    "# Posterior predictive checks (PPCs)\n",
    "def ppc(alpha,beta,sigma, X,  nsamples=500):\n",
    "    #we select nsamples random samples from the posterior\n",
    "    ind = np.random.randint(0,beta.shape[0],size=nsamples)\n",
    "    alphai = alpha[ind]\n",
    "    betai = beta[ind,:]\n",
    "    sigmai = sigma[ind]\n",
    "\n",
    "    Ypred = np.zeros((nsamples,X.shape[0]))\n",
    "    for i in range(X.shape[0]):\n",
    "        #we generate data from linear model\n",
    "        y_pred = alphai + np.dot(betai, X[i:i+1,:].T).T +np.random.randn(len(sigmai))*sigmai\n",
    "        Ypred[:,i]=y_pred[0,:]\n",
    "    return Ypred\n"
   ]
  },
  {
   "cell_type": "code",
   "execution_count": 43,
   "metadata": {},
   "outputs": [],
   "source": [
    "# Create a dictiornary to store cluster components\n",
    "# This will allow the code to run more dynamically, and I could add extra clusters trivially\n",
    "\n",
    "# Cluster Data\n",
    "cd = {}\n"
   ]
  },
  {
   "cell_type": "code",
   "execution_count": null,
   "metadata": {},
   "outputs": [
    {
     "name": "stdout",
     "output_type": "stream",
     "text": [
      "Cluster 0 has size of 335 rows.\n"
     ]
    },
    {
     "data": {
      "text/html": [
       "\n",
       "    <div>\n",
       "        <style>\n",
       "            /* Turns off some styling */\n",
       "            progress {\n",
       "                /* gets rid of default border in Firefox and Opera. */\n",
       "                border: none;\n",
       "                /* Needs to be in here for Safari polyfill so background images work as expected. */\n",
       "                background-size: auto;\n",
       "            }\n",
       "            .progress-bar-interrupted, .progress-bar-interrupted::-webkit-progress-bar {\n",
       "                background: #F44336;\n",
       "            }\n",
       "        </style>\n",
       "      <progress value='40000' class='' max='40000' style='width:300px; height:20px; vertical-align: middle;'></progress>\n",
       "      100.00% [40000/40000 00:39<00:00 Average Loss = 1,936.8]\n",
       "    </div>\n",
       "    "
      ],
      "text/plain": [
       "<IPython.core.display.HTML object>"
      ]
     },
     "metadata": {},
     "output_type": "display_data"
    },
    {
     "name": "stderr",
     "output_type": "stream",
     "text": [
      "Finished [100%]: Average Loss = 1,936.8\n"
     ]
    },
    {
     "data": {
      "image/png": "[encoded data removed]",
      "text/plain": [
       "<Figure size 864x576 with 1 Axes>"
      ]
     },
     "metadata": {},
     "output_type": "display_data"
    },
    {
     "name": "stdout",
     "output_type": "stream",
     "text": [
      "Cluster 1 has size of 1010 rows.\n"
     ]
    },
    {
     "data": {
      "text/html": [
       "\n",
       "    <div>\n",
       "        <style>\n",
       "            /* Turns off some styling */\n",
       "            progress {\n",
       "                /* gets rid of default border in Firefox and Opera. */\n",
       "                border: none;\n",
       "                /* Needs to be in here for Safari polyfill so background images work as expected. */\n",
       "                background-size: auto;\n",
       "            }\n",
       "            .progress-bar-interrupted, .progress-bar-interrupted::-webkit-progress-bar {\n",
       "                background: #F44336;\n",
       "            }\n",
       "        </style>\n",
       "      <progress value='40000' class='' max='40000' style='width:300px; height:20px; vertical-align: middle;'></progress>\n",
       "      100.00% [40000/40000 01:26<00:00 Average Loss = 4,396.9]\n",
       "    </div>\n",
       "    "
      ],
      "text/plain": [
       "<IPython.core.display.HTML object>"
      ]
     },
     "metadata": {},
     "output_type": "display_data"
    },
    {
     "name": "stderr",
     "output_type": "stream",
     "text": [
      "Finished [100%]: Average Loss = 4,396.9\n"
     ]
    },
    {
     "data": {
      "image/png": "[encoded data removed]",
      "text/plain": [
       "<Figure size 864x576 with 1 Axes>"
      ]
     },
     "metadata": {},
     "output_type": "display_data"
    },
    {
     "name": "stdout",
     "output_type": "stream",
     "text": [
      "Cluster 2 has size of 332 rows.\n"
     ]
    },
    {
     "data": {
      "text/html": [
       "\n",
       "    <div>\n",
       "        <style>\n",
       "            /* Turns off some styling */\n",
       "            progress {\n",
       "                /* gets rid of default border in Firefox and Opera. */\n",
       "                border: none;\n",
       "                /* Needs to be in here for Safari polyfill so background images work as expected. */\n",
       "                background-size: auto;\n",
       "            }\n",
       "            .progress-bar-interrupted, .progress-bar-interrupted::-webkit-progress-bar {\n",
       "                background: #F44336;\n",
       "            }\n",
       "        </style>\n",
       "      <progress value='35981' class='' max='40000' style='width:300px; height:20px; vertical-align: middle;'></progress>\n",
       "      89.95% [35981/40000 00:33<00:03 Average Loss = 2,279.4]\n",
       "    </div>\n",
       "    "
      ],
      "text/plain": [
       "<IPython.core.display.HTML object>"
      ]
     },
     "metadata": {},
     "output_type": "display_data"
    },
    {
     "name": "stderr",
     "output_type": "stream",
     "text": [
      "Interrupted at 36,084 [90%]: Average Loss = 2,864.5\n"
     ]
    },
    {
     "data": {
      "image/png": "[encoded data removed]",
      "text/plain": [
       "<Figure size 864x576 with 1 Axes>"
      ]
     },
     "metadata": {},
     "output_type": "display_data"
    },
    {
     "name": "stdout",
     "output_type": "stream",
     "text": [
      "Cluster 3 has size of 311 rows.\n"
     ]
    },
    {
     "data": {
      "text/html": [
       "\n",
       "    <div>\n",
       "        <style>\n",
       "            /* Turns off some styling */\n",
       "            progress {\n",
       "                /* gets rid of default border in Firefox and Opera. */\n",
       "                border: none;\n",
       "                /* Needs to be in here for Safari polyfill so background images work as expected. */\n",
       "                background-size: auto;\n",
       "            }\n",
       "            .progress-bar-interrupted, .progress-bar-interrupted::-webkit-progress-bar {\n",
       "                background: #F44336;\n",
       "            }\n",
       "        </style>\n",
       "      <progress value='39512' class='' max='40000' style='width:300px; height:20px; vertical-align: middle;'></progress>\n",
       "      98.78% [39512/40000 00:35<00:00 Average Loss = 2,485.1]\n",
       "    </div>\n",
       "    "
      ],
      "text/plain": [
       "<IPython.core.display.HTML object>"
      ]
     },
     "metadata": {},
     "output_type": "display_data"
    }
   ],
   "source": [
    "for j in range(component):\n",
    "    cd_temp = {}\n",
    "    cd_temp[\"Xn\"] = Xn_train[clusters_train==j,:]\n",
    "    cd_temp[\"Xtestn\"] = Xn_test[clusters_test==j,:]\n",
    "\n",
    "    cd_temp[\"ylog\"] = np.log(ys_train.astype('float')[clusters_train==j,:])\n",
    "    cd_temp[\"yscaler\"] = StandardScaler().fit(cd_temp[\"ylog\"])\n",
    "    cd_temp[\"yn\"] = cd_temp[\"yscaler\"].transform(cd_temp[\"ylog\"])\n",
    "    print(f\"Cluster {j} has size of {len(cd_temp['Xn'])} rows.\")\n",
    "\n",
    "    with pm.Model() as model_:\n",
    "        # prior over the parameters of linear regression\n",
    "        alpha = pm.Normal('alpha', mu=0, sigma=30)\n",
    "        # we have a beta for each column of Xn0\n",
    "        beta = pm.Normal('beta', mu=0, sigma=30, shape=cd_temp[\"Xn\"].shape[1])\n",
    "        # prior over the variance of the noise\n",
    "        sigma = pm.HalfCauchy('sigma_n', 5)\n",
    "        # linear regression relationship\n",
    "        #linear regression model in matrix form\n",
    "        mu = alpha + pm.math.dot(beta, cd_temp[\"Xn\"].T)\n",
    "        # likelihood, be sure that observed is a 1d vector\n",
    "        like = pm.Normal('like', mu=mu, sigma=sigma, observed=cd_temp[\"yn\"][:,0])\n",
    "\n",
    "    with model_:\n",
    "        # iterations of the algorithm\n",
    "        approximation = pm.fit(40000,method='advi')\n",
    "\n",
    "    # samples from the posterior   \n",
    "    cd_temp[\"posterior\"] = approximation.sample(5000)\n",
    "\n",
    "    #Simulation\n",
    "    Ypred = cd_temp[\"yscaler\"].inverse_transform(ppc(\n",
    "        cd_temp[\"posterior\"]['alpha'],\n",
    "        cd_temp[\"posterior\"] ['beta'],\n",
    "        cd_temp[\"posterior\"] ['sigma_n'],cd_temp[\"Xn\"],  nsamples=200))\n",
    "\n",
    "    for i in range(Ypred.shape[0]):\n",
    "        az.plot_dist( Ypred[i,:],color='r',plot_kwargs={\"linewidth\": 0.2})\n",
    "    az.plot_dist(Ypred[i,:],color='r',plot_kwargs={\"linewidth\": 0.2}, label=\"prediction\")\n",
    "    #plt.plot(np.linspace(-8,8,100),norm.pdf(np.linspace(-8,8,100),df=np.mean(posterior_1['nu'])))\n",
    "    #plt.xlim([0,10e7])\n",
    "    az.plot_dist(cd_temp[\"ylog\"],label='true observations');\n",
    "    plt.legend()\n",
    "    plt.xlabel(\"log(y) - output variable\")\n",
    "    plt.ylabel(\"density plot\");\n",
    "    plt.show()\n",
    "\n",
    "    cd[j] = cd_temp\n"
   ]
  },
  {
   "cell_type": "code",
   "execution_count": null,
   "metadata": {},
   "outputs": [],
   "source": [
    "# posteriors\n",
    "YPred_ = [cd[j][\"yscaler\"].inverse_transform(\n",
    "    ppc(\n",
    "        cd[j][\"posterior\"]['alpha'],\n",
    "        cd[j][\"posterior\"]['beta'],\n",
    "        cd[j][\"posterior\"]['sigma_n'],\n",
    "        cd[j][\"Xn\"],\n",
    "        nsamples=200)) for j in range(component)]\n",
    "\n",
    "# simulation\n",
    "Ypred = np.hstack(YPred_)\n",
    "\n",
    "# prediction\n",
    "for i in range(Ypred.shape[0]):\n",
    "    az.plot_dist( Ypred[i,:],color='r',plot_kwargs={\"linewidth\": 0.2})\n",
    "\n",
    "# plot\n",
    "az.plot_dist(Ypred[i,:],color='r',plot_kwargs={\"linewidth\": 0.2}, label=\"prediction\")\n",
    "ylog=np.vstack([cd[j][\"ylog\"] for j in range(component)])\n",
    "az.plot_dist(ylog,label='true observations');\n",
    "plt.legend()\n",
    "plt.xlabel(\"log(y) - output variable\")\n",
    "plt.ylabel(\"density plot\");"
   ]
  },
  {
   "cell_type": "markdown",
   "metadata": {},
   "source": [
    "### Test set performance"
   ]
  },
  {
   "cell_type": "code",
   "execution_count": null,
   "metadata": {},
   "outputs": [],
   "source": [
    "for j in range(component):\n",
    "    y_pred_BLR = np.exp(cd[j][\"yscaler\"].inverse_transform(np.mean(cd[j][\"posterior\"]['alpha']) \n",
    "                  + np.dot(np.mean(cd[j][\"posterior\"]['beta'],axis=0), cd[j][\"Xtestn\"].T)))\n",
    "    \n",
    "    print(f\"Size Cluster{j}\", np.sum(clusters_test==j), f\", MAE Cluster{j}=\",\n",
    "          (np.mean(abs(y_pred_BLR - y_test[clusters_test==j]))))\n",
    "    \n",
    "    cd[j][\"y_pred_BLR\"] = y_pred_BLR\n",
    "\n",
    "abs_ = [\n",
    "    abs(cd[j][\"y_pred_BLR\"] - y_test[clusters_test==j])\n",
    "    for j in range(component)]\n",
    "\n",
    "# joint\n",
    "joint=np.hstack(abs_)\n",
    "\n",
    "# MAE\n",
    "print(\"MAE=\",np.mean(joint))"
   ]
  },
  {
   "cell_type": "markdown",
   "metadata": {
    "id": "_kFgkUA85_pn"
   },
   "source": [
    "# BAYESIAN NN"
   ]
  },
  {
   "cell_type": "markdown",
   "metadata": {
    "id": "ELer5PV37ftX"
   },
   "source": [
    "A [Bayesian network](https://en.wikipedia.org/wiki/Bayesian_network) (also known as a Bayes network, Bayes net, belief network, or decision network) is a probabilistic graphical model that represents a set of variables and their conditional dependencies via a directed acyclic graph (DAG). \n",
    "\n",
    "* Bayesian networks are ideal for taking an event that occurred and predicting the likelihood that any one of several possible known causes was the contributing factor. \n",
    "* For example, a Bayesian network could represent the probabilistic relationships between diseases and symptoms. \n",
    "* Given symptoms, the network can be used to compute the probabilities of the presence of various diseases."
   ]
  },
  {
   "cell_type": "markdown",
   "metadata": {
    "id": "z0kauv1L5_po"
   },
   "source": [
    "Your comments, explanation, and references here."
   ]
  },
  {
   "cell_type": "code",
   "execution_count": null,
   "metadata": {
    "id": "0smpwCET5_pp"
   },
   "outputs": [],
   "source": [
    "# A Neural Network would be better than a regression for high dimensional data."
   ]
  },
  {
   "cell_type": "code",
   "execution_count": null,
   "metadata": {},
   "outputs": [],
   "source": [
    "# https://theano-pymc.readthedocs.io/en/latest/\n",
    "import theano\n",
    "\n",
    "# add a column of ones to include an intercept in the model\n",
    "x1 = np.vstack([np.ones(len(Xn_train)), Xn_train]).T\n",
    "\n",
    "\n",
    "floatX = theano.config.floatX\n",
    "\n",
    "l = 15\n",
    "# Initialize random weights between each layer\n",
    "# we do that to help the numerical algorithm that computes the posterior\n",
    "init_1 = np.random.randn(x1.shape[1], l).astype(floatX)\n",
    "init_out = np.random.randn(l).astype(floatX)\n",
    "\n",
    "# pymc3 model as neural_network\n",
    "with pm.Model() as neural_network:\n",
    "    # we convert the data in theano type so we can do dot products with the correct type.\n",
    "    ann_input = pm.Data('ann_input', x1)\n",
    "    ann_output = pm.Data('ann_output', ys_train)\n",
    "    # Priors \n",
    "    # Weights from input to hidden layer\n",
    "    weights_in_1 = pm.Normal('w_1', 0, sigma=10,\n",
    "                             shape=(x1.shape[1], l), testval=init_1)\n",
    "    # Weights from hidden layer to output\n",
    "    weights_2_out = pm.Normal('w_0', 0, sigma=10,\n",
    "                              shape=(l,),testval=init_out)\n",
    "\n",
    "    # Build neural-network using tanh activation function\n",
    "    # Inner layer\n",
    "    act_1 = pm.math.tanh(pm.math.dot(ann_input,weights_in_1))\n",
    "    # Linear layer, like in Linear regression\n",
    "    act_out = pm.Deterministic('act_out',pm.math.dot(act_1, weights_2_out))\n",
    "\n",
    "    # standard deviation of noise\n",
    "    sigma = pm.HalfCauchy('sigma',5)\n",
    "\n",
    "    # Normal likelihood\n",
    "    out = pm.Normal('out',\n",
    "                       act_out,\n",
    "                       sigma=sigma,\n",
    "                       observed=ann_output)"
   ]
  },
  {
   "cell_type": "code",
   "execution_count": null,
   "metadata": {},
   "outputs": [],
   "source": [
    "# this can be slow because there are many parameters\n",
    "\n",
    "# some parameters\n",
    "par1 = 100  # start with 100, then use 1000+\n",
    "par2 = 1000 # start with 1000, then use 10000+\n",
    "\n",
    "# neural network\n",
    "with neural_network:\n",
    "    posterior = pm.sample(par1,tune=par2,chains=1)"
   ]
  },
  {
   "cell_type": "markdown",
   "metadata": {},
   "source": [
    "Specifically, PyMC3 supports the following Variational Inference (VI) methods:\n",
    "\n",
    "  * Automatic Differentiation Variational Inference (ADVI): 'advi'\n",
    "  * ADVI full rank: 'fullrank_advi'\n",
    "  * Stein Variational Gradient Descent (SVGD): 'svgd'\n",
    "  * Amortized Stein Variational Gradient Descent (ASVGD): 'asvgd'\n",
    "  * Normalizing Flow with default scale-loc flow (NFVI): 'nfvi'\n"
   ]
  },
  {
   "cell_type": "code",
   "execution_count": null,
   "metadata": {},
   "outputs": [],
   "source": [
    "# we can do instead an approximated inference\n",
    "param3 = 1000 # start with 1000, then use 50000+\n",
    "VI = 'advi'  # 'advi', 'fullrank_advi', 'svgd', 'asvgd', 'nfvi'\n",
    "OP = pm.adam # pm.adam, pm.sgd, pm.adagrad, pm.adagrad_window, pm.adadelta\n",
    "LR = 0.01    \n",
    "\n",
    "with neural_network:\n",
    "    approx = pm.fit(param3, method=VI, obj_optimizer=pm.adam(learning_rate=LR))"
   ]
  },
  {
   "cell_type": "code",
   "execution_count": null,
   "metadata": {},
   "outputs": [],
   "source": [
    "# plot \n",
    "pb.plot(approx.hist, label='Variational Inference: '+ VI.upper(), alpha=.3)\n",
    "pb.legend(loc='upper right')\n",
    "# Evidence Lower Bound (ELBO)\n",
    "# https://en.wikipedia.org/wiki/Evidence_lower_bound\n",
    "pb.ylabel('ELBO')\n",
    "pb.xlabel('iteration');"
   ]
  },
  {
   "cell_type": "code",
   "execution_count": null,
   "metadata": {},
   "outputs": [],
   "source": [
    "# draw samples from variational posterior\n",
    "D = 500\n",
    "posterior = approx.sample(draws=D)"
   ]
  },
  {
   "cell_type": "markdown",
   "metadata": {},
   "source": [
    "Now, we compute the prediction for each sample. \n",
    "* Note that we use `np.tanh` instead of `pm.math.tanh`\n",
    "for speed reason. \n",
    "* `pm.math.tanh` is slower outside a Pymc3 model because it converts all data in theano format.\n",
    "* It is convenient to do GPU-based training, but it is slow when we only need to compute predictions."
   ]
  },
  {
   "cell_type": "code",
   "execution_count": null,
   "metadata": {},
   "outputs": [],
   "source": [
    "# add a column of ones to include an intercept in the model\n",
    "x2 = np.vstack([np.ones(len(Xn_test)), Xn_test]).T\n",
    "\n",
    "y_pred = []\n",
    "for i in range(posterior['w_1'].shape[0]):\n",
    "    #inner layer\n",
    "    t1 = np.tanh(np.dot(posterior['w_1'][i,:,:].T,x2.T))\n",
    "    #outer layer\n",
    "    y_pred.append(np.dot(posterior['w_0'][i,:],t1))\n",
    "\n",
    "# predictions   \n",
    "y_pred = np.array(y_pred)"
   ]
  },
  {
   "cell_type": "code",
   "execution_count": null,
   "metadata": {},
   "outputs": [],
   "source": [
    "print(\"MAE = \",(np.mean(abs(y_pred - y_test))))\n",
    "print(\"MAPE = \",(np.mean(abs(y_pred - y_test) / y_test)))"
   ]
  },
  {
   "cell_type": "markdown",
   "metadata": {
    "id": "f0GYCpwEM09T"
   },
   "source": [
    "# SUMMARY"
   ]
  },
  {
   "cell_type": "markdown",
   "metadata": {
    "id": "rBDzsZSJ7HZp"
   },
   "source": [
    "Your summary here."
   ]
  }
 ],
 "metadata": {
  "colab": {
   "name": "ET5003_KaggleCompetition.ipynb",
   "provenance": []
  },
  "kernelspec": {
   "display_name": "masters_in_ul",
   "language": "python",
   "name": "masters_in_ul"
  },
  "language_info": {
   "codemirror_mode": {
    "name": "ipython",
    "version": 3
   },
   "file_extension": ".py",
   "mimetype": "text/x-python",
   "name": "python",
   "nbconvert_exporter": "python",
   "pygments_lexer": "ipython3",
   "version": "3.8.5"
  }
 },
 "nbformat": 4,
 "nbformat_minor": 1
}
